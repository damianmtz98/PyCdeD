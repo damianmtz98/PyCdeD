{
  "nbformat": 4,
  "nbformat_minor": 0,
  "metadata": {
    "colab": {
      "provenance": [],
      "authorship_tag": "ABX9TyOMWeew1rq0arC6XOOQni4d",
      "include_colab_link": true
    },
    "kernelspec": {
      "name": "python3",
      "display_name": "Python 3"
    },
    "language_info": {
      "name": "python"
    }
  },
  "cells": [
    {
      "cell_type": "markdown",
      "metadata": {
        "id": "view-in-github",
        "colab_type": "text"
      },
      "source": [
        "<a href=\"https://colab.research.google.com/github/damianmtz98/PyCdeD/blob/main/T8_ReconocimientoComandodeVoz.ipynb\" target=\"_parent\"><img src=\"https://colab.research.google.com/assets/colab-badge.svg\" alt=\"Open In Colab\"/></a>"
      ]
    },
    {
      "cell_type": "code",
      "source": [
        "!pip install pydub\n"
      ],
      "metadata": {
        "id": "6yK7GfFzAW99"
      },
      "execution_count": null,
      "outputs": []
    },
    {
      "cell_type": "code",
      "source": [
        "import tensorflow as tf\n",
        "import tensorflow_datasets as tfds\n",
        "import numpy as np\n",
        "import pywt\n",
        "from sklearn.model_selection import train_test_split\n",
        "import librosa\n",
        "from tensorflow.keras.models import Sequential\n",
        "from tensorflow.keras.layers import Dense, Flatten, Conv1D, MaxPooling1D, Dropout\n",
        "import matplotlib.pyplot as plt\n"
      ],
      "metadata": {
        "id": "snSrjKiC_ker"
      },
      "execution_count": null,
      "outputs": []
    },
    {
      "cell_type": "markdown",
      "source": [
        "## Carga de los datos de audio\n"
      ],
      "metadata": {
        "id": "iZuxXeunJNOj"
      }
    },
    {
      "cell_type": "code",
      "source": [
        "# descargamos el conjunto de datos mini_speech_commands\n",
        "ds, info = tfds.load('speech_commands', with_info=True, as_supervised=True, split=['train[:10%]', 'test[:10%]'])\n"
      ],
      "metadata": {
        "id": "Uqtv7XSC_kcF"
      },
      "execution_count": null,
      "outputs": []
    },
    {
      "cell_type": "code",
      "source": [
        "# lista de los comandos\n",
        "commands = info.features['label'].names\n",
        "print(f\"Comandos disponibles: {commands}\")\n"
      ],
      "metadata": {
        "id": "W0EeMP7k_kVG"
      },
      "execution_count": null,
      "outputs": []
    },
    {
      "cell_type": "code",
      "source": [
        "# función para extraer características de wavelet de una señal de audio\n",
        "def extract_wavelet_features(signal, wavelet='db1', level=6):\n",
        "    coeffs = pywt.wavedec(signal, wavelet, level=level)\n",
        "    features = np.concatenate(coeffs)\n",
        "    return features"
      ],
      "metadata": {
        "id": "eBj3GN6K_6u6"
      },
      "execution_count": null,
      "outputs": []
    },
    {
      "cell_type": "code",
      "source": [
        "# función para extraer una muestra de cada comando del dataset y visualizar\n",
        "def extract_and_plot_all_samples(dataset, commands, target_length=16000):\n",
        "    # convertirmos el dataset a formato numpy\n",
        "    dataset = tfds.as_numpy(dataset)\n",
        "    command_samples = {command: None for command in commands}\n",
        "\n",
        "    # extraemos una muestra de cada comando\n",
        "    for audio, label in dataset:\n",
        "        command = commands[label]\n",
        "        if command_samples[command] is None:\n",
        "            signal = audio\n",
        "            if len(signal) < target_length:\n",
        "                signal = np.pad(signal, (0, target_length - len(signal)), 'constant')\n",
        "            else:\n",
        "                signal = signal[:target_length]\n",
        "            command_samples[command] = signal\n",
        "\n",
        "    # visualizamos las muestras\n",
        "    for command, signal in command_samples.items():\n",
        "        plot_waveform(signal, f'Forma de onda del comando: {command}')"
      ],
      "metadata": {
        "id": "JFZNrU0M-n6k"
      },
      "execution_count": null,
      "outputs": []
    },
    {
      "cell_type": "code",
      "source": [
        "\n",
        "def plot_waveform(signal, title, sample_rate=16000):\n",
        "    plt.figure(figsize=(12, 4))\n",
        "    plt.title(title)\n",
        "    plt.xlabel('Tiempo')\n",
        "    plt.ylabel('Amplitud')\n",
        "    plt.plot(signal)\n",
        "    plt.show()"
      ],
      "metadata": {
        "id": "e1x09itu-n-N"
      },
      "execution_count": null,
      "outputs": []
    },
    {
      "cell_type": "code",
      "source": [
        "# cargamos el conjunto de datos de los comandos de voz\n",
        "ds, info = tfds.load('speech_commands', with_info=True, as_supervised=True, split='train[:10%]')\n",
        "commands = info.features['label'].names\n",
        "print(f\"Comandos disponibles: {commands}\")"
      ],
      "metadata": {
        "id": "BdG-qfP5-n17"
      },
      "execution_count": null,
      "outputs": []
    },
    {
      "cell_type": "code",
      "source": [
        "# extraemos y visualizamos una muestra de cada comando de voz\n",
        "extract_and_plot_all_samples(ds, commands)"
      ],
      "metadata": {
        "id": "b3kM-mEXroEf"
      },
      "execution_count": null,
      "outputs": []
    },
    {
      "cell_type": "code",
      "source": [
        "# función para preprocesar los datos de audio\n",
        "def preprocess_dataset(dataset, target_length=16000):\n",
        "    data = []\n",
        "    labels = []\n",
        "    for audio, label in tfds.as_numpy(dataset):\n",
        "        # ajustamos la longitud de la señal de audio\n",
        "        if len(audio) < target_length:\n",
        "            audio = np.pad(audio, (0, target_length - len(audio)), 'constant')\n",
        "        else:\n",
        "            audio = audio[:target_length]\n",
        "\n",
        "        wavelet_features = extract_wavelet_features(audio)\n",
        "        data.append(wavelet_features)\n",
        "        labels.append(label)\n",
        "\n",
        "    return np.array(data), np.array(labels)"
      ],
      "metadata": {
        "id": "DaYLmBgBEzQT"
      },
      "execution_count": null,
      "outputs": []
    },
    {
      "cell_type": "markdown",
      "source": [
        "## Preprocesamiento"
      ],
      "metadata": {
        "id": "mrN6yyGrKeXM"
      }
    },
    {
      "cell_type": "code",
      "source": [
        "# preprocesamos los datos de entrenamiento y prueba\n",
        "X_train, y_train = preprocess_dataset(ds[0])\n",
        "X_test, y_test = preprocess_dataset(ds[1])\n"
      ],
      "metadata": {
        "id": "cUljKHpYIpdh"
      },
      "execution_count": null,
      "outputs": []
    },
    {
      "cell_type": "code",
      "source": [
        "# verificamos las formas de los datos\n",
        "print(f\"conjunto de datos entrenamiento: {X_train.shape}\")\n",
        "print(f\"conjunto de datos prueba: {X_test.shape}\")"
      ],
      "metadata": {
        "id": "TMHkbHJDIxmX"
      },
      "execution_count": null,
      "outputs": []
    },
    {
      "cell_type": "code",
      "source": [
        "# redefinimos la forma de los datos de comando para el modelo\n",
        "X_train = X_train[..., np.newaxis]\n",
        "X_test = X_test[..., np.newaxis]"
      ],
      "metadata": {
        "id": "uOTwWUt-I0Im"
      },
      "execution_count": null,
      "outputs": []
    },
    {
      "cell_type": "markdown",
      "source": [
        "## Modelo"
      ],
      "metadata": {
        "id": "6bo4hvXBJYAI"
      }
    },
    {
      "cell_type": "code",
      "source": [
        "# definimos el modelo\n",
        "model = Sequential([\n",
        "    Conv1D(64, kernel_size=3, activation='relu', input_shape=(X_train.shape[1], 1)),\n",
        "    MaxPooling1D(pool_size=2),\n",
        "    Flatten(),\n",
        "    Dense(128, activation='relu'),\n",
        "    Dense(len(commands), activation='softmax')\n",
        "])"
      ],
      "metadata": {
        "id": "wOiJBQAEJXpA"
      },
      "execution_count": null,
      "outputs": []
    },
    {
      "cell_type": "code",
      "source": [
        "# definimos el modelo\n",
        "model = Sequential([\n",
        "    Conv1D(64, kernel_size=3, activation='relu', input_shape=(X_train.shape[1], 1)),\n",
        "    MaxPooling1D(pool_size=2),\n",
        "    Dropout(0.5),\n",
        "    Conv1D(128, kernel_size=3, activation='relu'),\n",
        "    MaxPooling1D(pool_size=2),\n",
        "    Dropout(0.5),\n",
        "    Flatten(),\n",
        "    Dense(256, activation='relu'),\n",
        "    Dropout(0.5),\n",
        "    Dense(len(commands), activation='softmax')\n",
        "])"
      ],
      "metadata": {
        "id": "LkE18uS3jlqV"
      },
      "execution_count": null,
      "outputs": []
    },
    {
      "cell_type": "code",
      "source": [
        "# compilamos el modelo\n",
        "model.compile(optimizer='adam', loss='sparse_categorical_crossentropy', metrics=['accuracy'])"
      ],
      "metadata": {
        "id": "J4ujBRiKJnpX"
      },
      "execution_count": null,
      "outputs": []
    },
    {
      "cell_type": "code",
      "source": [
        "# entrenamos el modelo\n",
        "history = model.fit(X_train, y_train, epochs=15, batch_size=64, validation_data=(X_test, y_test))"
      ],
      "metadata": {
        "id": "oYHtrTVJJnl_"
      },
      "execution_count": null,
      "outputs": []
    },
    {
      "cell_type": "code",
      "source": [
        "# evaluamos el modelo\n",
        "loss, accuracy = model.evaluate(X_test, y_test)\n",
        "print(f'Loss: {loss}, Accuracy: {accuracy}')"
      ],
      "metadata": {
        "id": "judyeCYoJnKb"
      },
      "execution_count": null,
      "outputs": []
    },
    {
      "cell_type": "code",
      "source": [
        "# graficamos la pérdida y la precision durante el entrenamiento y la validación\n",
        "plt.figure(figsize=(12, 6))\n",
        "plt.plot(history.history['loss'], label='Pérdida de entrenamiento')\n",
        "plt.plot(history.history['val_loss'], label='Pérdida de validación')\n",
        "plt.title('Pérdida durante el entrenamiento y la validación')\n",
        "plt.xlabel('Épocas')\n",
        "plt.ylabel('Pérdida')\n",
        "plt.legend()\n",
        "plt.show()\n",
        "\n",
        "plt.figure(figsize=(12, 6))\n",
        "plt.plot(history.history['accuracy'], label='Precisión de entrenamiento')\n",
        "plt.plot(history.history['val_accuracy'], label='Precisión de validación')\n",
        "plt.title('Precisión durante el entrenamiento y la validación')\n",
        "plt.xlabel('Épocas')\n",
        "plt.ylabel('Precisión')\n",
        "plt.legend()\n",
        "plt.show()\n"
      ],
      "metadata": {
        "id": "PGoqvVjhnUse"
      },
      "execution_count": null,
      "outputs": []
    }
  ]
}