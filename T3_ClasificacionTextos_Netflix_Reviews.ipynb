{
  "nbformat": 4,
  "nbformat_minor": 0,
  "metadata": {
    "colab": {
      "provenance": []
    },
    "kernelspec": {
      "name": "python3",
      "display_name": "Python 3"
    },
    "language_info": {
      "name": "python"
    }
  },
  "cells": [
    {
      "cell_type": "markdown",
      "source": [
        "# Clasificación de datos texto\n",
        "\n",
        "Reseñas de Netlix\n",
        "\n"
      ],
      "metadata": {
        "id": "b9JxseBVUViR"
      }
    },
    {
      "cell_type": "markdown",
      "source": [
        "## Analisis exploratorio de los datos\n"
      ],
      "metadata": {
        "id": "kIvNisWjUOqe"
      }
    },
    {
      "cell_type": "code",
      "source": [
        "import pandas as pd\n",
        "import matplotlib.pyplot as plt\n"
      ],
      "metadata": {
        "id": "tyvUXawUlbiZ"
      },
      "execution_count": 2,
      "outputs": []
    },
    {
      "cell_type": "code",
      "source": [
        "df_net = pd.read_csv('netflix_reviews.csv')"
      ],
      "metadata": {
        "id": "0awwWzIblgzj"
      },
      "execution_count": 3,
      "outputs": []
    },
    {
      "cell_type": "code",
      "source": [
        "df_net.head()"
      ],
      "metadata": {
        "colab": {
          "base_uri": "https://localhost:8080/",
          "height": 201
        },
        "id": "4OSIei_ALt0s",
        "outputId": "becbd370-90d4-4500-952a-49358423d05c"
      },
      "execution_count": 4,
      "outputs": [
        {
          "output_type": "execute_result",
          "data": {
            "text/plain": [
              "                               reviewId                 userName  \\\n",
              "0  604f0c0a-6d7b-4651-b9f0-054b9ab0fb7c               QJ Golding   \n",
              "1  25c73759-f688-40bd-bd51-73f8242fb86a          Carolyn K Davis   \n",
              "2  51daa77d-7d2a-4479-a7b7-698aa294bebd  Hailey Adrielle Apostol   \n",
              "3  3b1484d7-8564-4489-a78c-087f00d0259c          Mohammad Hafizz   \n",
              "4  4675eb67-63b0-4afc-a4ca-5d32ce3f5d49             Jeffrey Rich   \n",
              "\n",
              "                                             content  score  thumbsUpCount  \\\n",
              "0  New plan doesn't support chromecast, doesn't e...      1              0   \n",
              "1  I enjoy the content that Netflix brings, but w...      4              0   \n",
              "2  when I try to play something it won't play and...      1              0   \n",
              "3                             Bodo punya netflix....      1              0   \n",
              "4                                       Just superb👌      5              0   \n",
              "\n",
              "     reviewCreatedVersion                   at              appVersion  \n",
              "0  8.118.1 build 10 50703  2024-06-11 22:02:54  8.118.1 build 10 50703  \n",
              "1   8.109.0 build 7 50647  2024-06-11 22:01:14   8.109.0 build 7 50647  \n",
              "2  8.118.1 build 10 50703  2024-06-11 21:55:52  8.118.1 build 10 50703  \n",
              "3  8.118.1 build 10 50703  2024-06-11 21:52:38  8.118.1 build 10 50703  \n",
              "4   8.117.0 build 3 50695  2024-06-11 21:43:43   8.117.0 build 3 50695  "
            ],
            "text/html": [
              "\n",
              "  <div id=\"df-5fd9c86d-c298-4a90-bd62-cc7b0b2ebb39\" class=\"colab-df-container\">\n",
              "    <div>\n",
              "<style scoped>\n",
              "    .dataframe tbody tr th:only-of-type {\n",
              "        vertical-align: middle;\n",
              "    }\n",
              "\n",
              "    .dataframe tbody tr th {\n",
              "        vertical-align: top;\n",
              "    }\n",
              "\n",
              "    .dataframe thead th {\n",
              "        text-align: right;\n",
              "    }\n",
              "</style>\n",
              "<table border=\"1\" class=\"dataframe\">\n",
              "  <thead>\n",
              "    <tr style=\"text-align: right;\">\n",
              "      <th></th>\n",
              "      <th>reviewId</th>\n",
              "      <th>userName</th>\n",
              "      <th>content</th>\n",
              "      <th>score</th>\n",
              "      <th>thumbsUpCount</th>\n",
              "      <th>reviewCreatedVersion</th>\n",
              "      <th>at</th>\n",
              "      <th>appVersion</th>\n",
              "    </tr>\n",
              "  </thead>\n",
              "  <tbody>\n",
              "    <tr>\n",
              "      <th>0</th>\n",
              "      <td>604f0c0a-6d7b-4651-b9f0-054b9ab0fb7c</td>\n",
              "      <td>QJ Golding</td>\n",
              "      <td>New plan doesn't support chromecast, doesn't e...</td>\n",
              "      <td>1</td>\n",
              "      <td>0</td>\n",
              "      <td>8.118.1 build 10 50703</td>\n",
              "      <td>2024-06-11 22:02:54</td>\n",
              "      <td>8.118.1 build 10 50703</td>\n",
              "    </tr>\n",
              "    <tr>\n",
              "      <th>1</th>\n",
              "      <td>25c73759-f688-40bd-bd51-73f8242fb86a</td>\n",
              "      <td>Carolyn K Davis</td>\n",
              "      <td>I enjoy the content that Netflix brings, but w...</td>\n",
              "      <td>4</td>\n",
              "      <td>0</td>\n",
              "      <td>8.109.0 build 7 50647</td>\n",
              "      <td>2024-06-11 22:01:14</td>\n",
              "      <td>8.109.0 build 7 50647</td>\n",
              "    </tr>\n",
              "    <tr>\n",
              "      <th>2</th>\n",
              "      <td>51daa77d-7d2a-4479-a7b7-698aa294bebd</td>\n",
              "      <td>Hailey Adrielle Apostol</td>\n",
              "      <td>when I try to play something it won't play and...</td>\n",
              "      <td>1</td>\n",
              "      <td>0</td>\n",
              "      <td>8.118.1 build 10 50703</td>\n",
              "      <td>2024-06-11 21:55:52</td>\n",
              "      <td>8.118.1 build 10 50703</td>\n",
              "    </tr>\n",
              "    <tr>\n",
              "      <th>3</th>\n",
              "      <td>3b1484d7-8564-4489-a78c-087f00d0259c</td>\n",
              "      <td>Mohammad Hafizz</td>\n",
              "      <td>Bodo punya netflix....</td>\n",
              "      <td>1</td>\n",
              "      <td>0</td>\n",
              "      <td>8.118.1 build 10 50703</td>\n",
              "      <td>2024-06-11 21:52:38</td>\n",
              "      <td>8.118.1 build 10 50703</td>\n",
              "    </tr>\n",
              "    <tr>\n",
              "      <th>4</th>\n",
              "      <td>4675eb67-63b0-4afc-a4ca-5d32ce3f5d49</td>\n",
              "      <td>Jeffrey Rich</td>\n",
              "      <td>Just superb👌</td>\n",
              "      <td>5</td>\n",
              "      <td>0</td>\n",
              "      <td>8.117.0 build 3 50695</td>\n",
              "      <td>2024-06-11 21:43:43</td>\n",
              "      <td>8.117.0 build 3 50695</td>\n",
              "    </tr>\n",
              "  </tbody>\n",
              "</table>\n",
              "</div>\n",
              "    <div class=\"colab-df-buttons\">\n",
              "\n",
              "  <div class=\"colab-df-container\">\n",
              "    <button class=\"colab-df-convert\" onclick=\"convertToInteractive('df-5fd9c86d-c298-4a90-bd62-cc7b0b2ebb39')\"\n",
              "            title=\"Convert this dataframe to an interactive table.\"\n",
              "            style=\"display:none;\">\n",
              "\n",
              "  <svg xmlns=\"http://www.w3.org/2000/svg\" height=\"24px\" viewBox=\"0 -960 960 960\">\n",
              "    <path d=\"M120-120v-720h720v720H120Zm60-500h600v-160H180v160Zm220 220h160v-160H400v160Zm0 220h160v-160H400v160ZM180-400h160v-160H180v160Zm440 0h160v-160H620v160ZM180-180h160v-160H180v160Zm440 0h160v-160H620v160Z\"/>\n",
              "  </svg>\n",
              "    </button>\n",
              "\n",
              "  <style>\n",
              "    .colab-df-container {\n",
              "      display:flex;\n",
              "      gap: 12px;\n",
              "    }\n",
              "\n",
              "    .colab-df-convert {\n",
              "      background-color: #E8F0FE;\n",
              "      border: none;\n",
              "      border-radius: 50%;\n",
              "      cursor: pointer;\n",
              "      display: none;\n",
              "      fill: #1967D2;\n",
              "      height: 32px;\n",
              "      padding: 0 0 0 0;\n",
              "      width: 32px;\n",
              "    }\n",
              "\n",
              "    .colab-df-convert:hover {\n",
              "      background-color: #E2EBFA;\n",
              "      box-shadow: 0px 1px 2px rgba(60, 64, 67, 0.3), 0px 1px 3px 1px rgba(60, 64, 67, 0.15);\n",
              "      fill: #174EA6;\n",
              "    }\n",
              "\n",
              "    .colab-df-buttons div {\n",
              "      margin-bottom: 4px;\n",
              "    }\n",
              "\n",
              "    [theme=dark] .colab-df-convert {\n",
              "      background-color: #3B4455;\n",
              "      fill: #D2E3FC;\n",
              "    }\n",
              "\n",
              "    [theme=dark] .colab-df-convert:hover {\n",
              "      background-color: #434B5C;\n",
              "      box-shadow: 0px 1px 3px 1px rgba(0, 0, 0, 0.15);\n",
              "      filter: drop-shadow(0px 1px 2px rgba(0, 0, 0, 0.3));\n",
              "      fill: #FFFFFF;\n",
              "    }\n",
              "  </style>\n",
              "\n",
              "    <script>\n",
              "      const buttonEl =\n",
              "        document.querySelector('#df-5fd9c86d-c298-4a90-bd62-cc7b0b2ebb39 button.colab-df-convert');\n",
              "      buttonEl.style.display =\n",
              "        google.colab.kernel.accessAllowed ? 'block' : 'none';\n",
              "\n",
              "      async function convertToInteractive(key) {\n",
              "        const element = document.querySelector('#df-5fd9c86d-c298-4a90-bd62-cc7b0b2ebb39');\n",
              "        const dataTable =\n",
              "          await google.colab.kernel.invokeFunction('convertToInteractive',\n",
              "                                                    [key], {});\n",
              "        if (!dataTable) return;\n",
              "\n",
              "        const docLinkHtml = 'Like what you see? Visit the ' +\n",
              "          '<a target=\"_blank\" href=https://colab.research.google.com/notebooks/data_table.ipynb>data table notebook</a>'\n",
              "          + ' to learn more about interactive tables.';\n",
              "        element.innerHTML = '';\n",
              "        dataTable['output_type'] = 'display_data';\n",
              "        await google.colab.output.renderOutput(dataTable, element);\n",
              "        const docLink = document.createElement('div');\n",
              "        docLink.innerHTML = docLinkHtml;\n",
              "        element.appendChild(docLink);\n",
              "      }\n",
              "    </script>\n",
              "  </div>\n",
              "\n",
              "\n",
              "<div id=\"df-3384913b-9ef1-4b3d-b9b4-586fc25958fc\">\n",
              "  <button class=\"colab-df-quickchart\" onclick=\"quickchart('df-3384913b-9ef1-4b3d-b9b4-586fc25958fc')\"\n",
              "            title=\"Suggest charts\"\n",
              "            style=\"display:none;\">\n",
              "\n",
              "<svg xmlns=\"http://www.w3.org/2000/svg\" height=\"24px\"viewBox=\"0 0 24 24\"\n",
              "     width=\"24px\">\n",
              "    <g>\n",
              "        <path d=\"M19 3H5c-1.1 0-2 .9-2 2v14c0 1.1.9 2 2 2h14c1.1 0 2-.9 2-2V5c0-1.1-.9-2-2-2zM9 17H7v-7h2v7zm4 0h-2V7h2v10zm4 0h-2v-4h2v4z\"/>\n",
              "    </g>\n",
              "</svg>\n",
              "  </button>\n",
              "\n",
              "<style>\n",
              "  .colab-df-quickchart {\n",
              "      --bg-color: #E8F0FE;\n",
              "      --fill-color: #1967D2;\n",
              "      --hover-bg-color: #E2EBFA;\n",
              "      --hover-fill-color: #174EA6;\n",
              "      --disabled-fill-color: #AAA;\n",
              "      --disabled-bg-color: #DDD;\n",
              "  }\n",
              "\n",
              "  [theme=dark] .colab-df-quickchart {\n",
              "      --bg-color: #3B4455;\n",
              "      --fill-color: #D2E3FC;\n",
              "      --hover-bg-color: #434B5C;\n",
              "      --hover-fill-color: #FFFFFF;\n",
              "      --disabled-bg-color: #3B4455;\n",
              "      --disabled-fill-color: #666;\n",
              "  }\n",
              "\n",
              "  .colab-df-quickchart {\n",
              "    background-color: var(--bg-color);\n",
              "    border: none;\n",
              "    border-radius: 50%;\n",
              "    cursor: pointer;\n",
              "    display: none;\n",
              "    fill: var(--fill-color);\n",
              "    height: 32px;\n",
              "    padding: 0;\n",
              "    width: 32px;\n",
              "  }\n",
              "\n",
              "  .colab-df-quickchart:hover {\n",
              "    background-color: var(--hover-bg-color);\n",
              "    box-shadow: 0 1px 2px rgba(60, 64, 67, 0.3), 0 1px 3px 1px rgba(60, 64, 67, 0.15);\n",
              "    fill: var(--button-hover-fill-color);\n",
              "  }\n",
              "\n",
              "  .colab-df-quickchart-complete:disabled,\n",
              "  .colab-df-quickchart-complete:disabled:hover {\n",
              "    background-color: var(--disabled-bg-color);\n",
              "    fill: var(--disabled-fill-color);\n",
              "    box-shadow: none;\n",
              "  }\n",
              "\n",
              "  .colab-df-spinner {\n",
              "    border: 2px solid var(--fill-color);\n",
              "    border-color: transparent;\n",
              "    border-bottom-color: var(--fill-color);\n",
              "    animation:\n",
              "      spin 1s steps(1) infinite;\n",
              "  }\n",
              "\n",
              "  @keyframes spin {\n",
              "    0% {\n",
              "      border-color: transparent;\n",
              "      border-bottom-color: var(--fill-color);\n",
              "      border-left-color: var(--fill-color);\n",
              "    }\n",
              "    20% {\n",
              "      border-color: transparent;\n",
              "      border-left-color: var(--fill-color);\n",
              "      border-top-color: var(--fill-color);\n",
              "    }\n",
              "    30% {\n",
              "      border-color: transparent;\n",
              "      border-left-color: var(--fill-color);\n",
              "      border-top-color: var(--fill-color);\n",
              "      border-right-color: var(--fill-color);\n",
              "    }\n",
              "    40% {\n",
              "      border-color: transparent;\n",
              "      border-right-color: var(--fill-color);\n",
              "      border-top-color: var(--fill-color);\n",
              "    }\n",
              "    60% {\n",
              "      border-color: transparent;\n",
              "      border-right-color: var(--fill-color);\n",
              "    }\n",
              "    80% {\n",
              "      border-color: transparent;\n",
              "      border-right-color: var(--fill-color);\n",
              "      border-bottom-color: var(--fill-color);\n",
              "    }\n",
              "    90% {\n",
              "      border-color: transparent;\n",
              "      border-bottom-color: var(--fill-color);\n",
              "    }\n",
              "  }\n",
              "</style>\n",
              "\n",
              "  <script>\n",
              "    async function quickchart(key) {\n",
              "      const quickchartButtonEl =\n",
              "        document.querySelector('#' + key + ' button');\n",
              "      quickchartButtonEl.disabled = true;  // To prevent multiple clicks.\n",
              "      quickchartButtonEl.classList.add('colab-df-spinner');\n",
              "      try {\n",
              "        const charts = await google.colab.kernel.invokeFunction(\n",
              "            'suggestCharts', [key], {});\n",
              "      } catch (error) {\n",
              "        console.error('Error during call to suggestCharts:', error);\n",
              "      }\n",
              "      quickchartButtonEl.classList.remove('colab-df-spinner');\n",
              "      quickchartButtonEl.classList.add('colab-df-quickchart-complete');\n",
              "    }\n",
              "    (() => {\n",
              "      let quickchartButtonEl =\n",
              "        document.querySelector('#df-3384913b-9ef1-4b3d-b9b4-586fc25958fc button');\n",
              "      quickchartButtonEl.style.display =\n",
              "        google.colab.kernel.accessAllowed ? 'block' : 'none';\n",
              "    })();\n",
              "  </script>\n",
              "</div>\n",
              "\n",
              "    </div>\n",
              "  </div>\n"
            ],
            "application/vnd.google.colaboratory.intrinsic+json": {
              "type": "dataframe",
              "variable_name": "df_net"
            }
          },
          "metadata": {},
          "execution_count": 4
        }
      ]
    },
    {
      "cell_type": "code",
      "source": [
        "# consideramos las columnas necesarias\n",
        "df_net = df_net[['content','score']]"
      ],
      "metadata": {
        "id": "SlVDqUzXoqgA"
      },
      "execution_count": 5,
      "outputs": []
    },
    {
      "cell_type": "code",
      "source": [
        "df_net.head()"
      ],
      "metadata": {
        "colab": {
          "base_uri": "https://localhost:8080/",
          "height": 201
        },
        "id": "3Un3qB5HrOtD",
        "outputId": "6bcb5735-5ce0-4e17-fcff-e9968353003d"
      },
      "execution_count": 6,
      "outputs": [
        {
          "output_type": "execute_result",
          "data": {
            "text/plain": [
              "                                             content  score\n",
              "0  New plan doesn't support chromecast, doesn't e...      1\n",
              "1  I enjoy the content that Netflix brings, but w...      4\n",
              "2  when I try to play something it won't play and...      1\n",
              "3                             Bodo punya netflix....      1\n",
              "4                                       Just superb👌      5"
            ],
            "text/html": [
              "\n",
              "  <div id=\"df-7f2f4d69-db52-4fe9-a8c5-fe715244e92f\" class=\"colab-df-container\">\n",
              "    <div>\n",
              "<style scoped>\n",
              "    .dataframe tbody tr th:only-of-type {\n",
              "        vertical-align: middle;\n",
              "    }\n",
              "\n",
              "    .dataframe tbody tr th {\n",
              "        vertical-align: top;\n",
              "    }\n",
              "\n",
              "    .dataframe thead th {\n",
              "        text-align: right;\n",
              "    }\n",
              "</style>\n",
              "<table border=\"1\" class=\"dataframe\">\n",
              "  <thead>\n",
              "    <tr style=\"text-align: right;\">\n",
              "      <th></th>\n",
              "      <th>content</th>\n",
              "      <th>score</th>\n",
              "    </tr>\n",
              "  </thead>\n",
              "  <tbody>\n",
              "    <tr>\n",
              "      <th>0</th>\n",
              "      <td>New plan doesn't support chromecast, doesn't e...</td>\n",
              "      <td>1</td>\n",
              "    </tr>\n",
              "    <tr>\n",
              "      <th>1</th>\n",
              "      <td>I enjoy the content that Netflix brings, but w...</td>\n",
              "      <td>4</td>\n",
              "    </tr>\n",
              "    <tr>\n",
              "      <th>2</th>\n",
              "      <td>when I try to play something it won't play and...</td>\n",
              "      <td>1</td>\n",
              "    </tr>\n",
              "    <tr>\n",
              "      <th>3</th>\n",
              "      <td>Bodo punya netflix....</td>\n",
              "      <td>1</td>\n",
              "    </tr>\n",
              "    <tr>\n",
              "      <th>4</th>\n",
              "      <td>Just superb👌</td>\n",
              "      <td>5</td>\n",
              "    </tr>\n",
              "  </tbody>\n",
              "</table>\n",
              "</div>\n",
              "    <div class=\"colab-df-buttons\">\n",
              "\n",
              "  <div class=\"colab-df-container\">\n",
              "    <button class=\"colab-df-convert\" onclick=\"convertToInteractive('df-7f2f4d69-db52-4fe9-a8c5-fe715244e92f')\"\n",
              "            title=\"Convert this dataframe to an interactive table.\"\n",
              "            style=\"display:none;\">\n",
              "\n",
              "  <svg xmlns=\"http://www.w3.org/2000/svg\" height=\"24px\" viewBox=\"0 -960 960 960\">\n",
              "    <path d=\"M120-120v-720h720v720H120Zm60-500h600v-160H180v160Zm220 220h160v-160H400v160Zm0 220h160v-160H400v160ZM180-400h160v-160H180v160Zm440 0h160v-160H620v160ZM180-180h160v-160H180v160Zm440 0h160v-160H620v160Z\"/>\n",
              "  </svg>\n",
              "    </button>\n",
              "\n",
              "  <style>\n",
              "    .colab-df-container {\n",
              "      display:flex;\n",
              "      gap: 12px;\n",
              "    }\n",
              "\n",
              "    .colab-df-convert {\n",
              "      background-color: #E8F0FE;\n",
              "      border: none;\n",
              "      border-radius: 50%;\n",
              "      cursor: pointer;\n",
              "      display: none;\n",
              "      fill: #1967D2;\n",
              "      height: 32px;\n",
              "      padding: 0 0 0 0;\n",
              "      width: 32px;\n",
              "    }\n",
              "\n",
              "    .colab-df-convert:hover {\n",
              "      background-color: #E2EBFA;\n",
              "      box-shadow: 0px 1px 2px rgba(60, 64, 67, 0.3), 0px 1px 3px 1px rgba(60, 64, 67, 0.15);\n",
              "      fill: #174EA6;\n",
              "    }\n",
              "\n",
              "    .colab-df-buttons div {\n",
              "      margin-bottom: 4px;\n",
              "    }\n",
              "\n",
              "    [theme=dark] .colab-df-convert {\n",
              "      background-color: #3B4455;\n",
              "      fill: #D2E3FC;\n",
              "    }\n",
              "\n",
              "    [theme=dark] .colab-df-convert:hover {\n",
              "      background-color: #434B5C;\n",
              "      box-shadow: 0px 1px 3px 1px rgba(0, 0, 0, 0.15);\n",
              "      filter: drop-shadow(0px 1px 2px rgba(0, 0, 0, 0.3));\n",
              "      fill: #FFFFFF;\n",
              "    }\n",
              "  </style>\n",
              "\n",
              "    <script>\n",
              "      const buttonEl =\n",
              "        document.querySelector('#df-7f2f4d69-db52-4fe9-a8c5-fe715244e92f button.colab-df-convert');\n",
              "      buttonEl.style.display =\n",
              "        google.colab.kernel.accessAllowed ? 'block' : 'none';\n",
              "\n",
              "      async function convertToInteractive(key) {\n",
              "        const element = document.querySelector('#df-7f2f4d69-db52-4fe9-a8c5-fe715244e92f');\n",
              "        const dataTable =\n",
              "          await google.colab.kernel.invokeFunction('convertToInteractive',\n",
              "                                                    [key], {});\n",
              "        if (!dataTable) return;\n",
              "\n",
              "        const docLinkHtml = 'Like what you see? Visit the ' +\n",
              "          '<a target=\"_blank\" href=https://colab.research.google.com/notebooks/data_table.ipynb>data table notebook</a>'\n",
              "          + ' to learn more about interactive tables.';\n",
              "        element.innerHTML = '';\n",
              "        dataTable['output_type'] = 'display_data';\n",
              "        await google.colab.output.renderOutput(dataTable, element);\n",
              "        const docLink = document.createElement('div');\n",
              "        docLink.innerHTML = docLinkHtml;\n",
              "        element.appendChild(docLink);\n",
              "      }\n",
              "    </script>\n",
              "  </div>\n",
              "\n",
              "\n",
              "<div id=\"df-1528d68e-7dcc-42e4-92f9-e1086ac86597\">\n",
              "  <button class=\"colab-df-quickchart\" onclick=\"quickchart('df-1528d68e-7dcc-42e4-92f9-e1086ac86597')\"\n",
              "            title=\"Suggest charts\"\n",
              "            style=\"display:none;\">\n",
              "\n",
              "<svg xmlns=\"http://www.w3.org/2000/svg\" height=\"24px\"viewBox=\"0 0 24 24\"\n",
              "     width=\"24px\">\n",
              "    <g>\n",
              "        <path d=\"M19 3H5c-1.1 0-2 .9-2 2v14c0 1.1.9 2 2 2h14c1.1 0 2-.9 2-2V5c0-1.1-.9-2-2-2zM9 17H7v-7h2v7zm4 0h-2V7h2v10zm4 0h-2v-4h2v4z\"/>\n",
              "    </g>\n",
              "</svg>\n",
              "  </button>\n",
              "\n",
              "<style>\n",
              "  .colab-df-quickchart {\n",
              "      --bg-color: #E8F0FE;\n",
              "      --fill-color: #1967D2;\n",
              "      --hover-bg-color: #E2EBFA;\n",
              "      --hover-fill-color: #174EA6;\n",
              "      --disabled-fill-color: #AAA;\n",
              "      --disabled-bg-color: #DDD;\n",
              "  }\n",
              "\n",
              "  [theme=dark] .colab-df-quickchart {\n",
              "      --bg-color: #3B4455;\n",
              "      --fill-color: #D2E3FC;\n",
              "      --hover-bg-color: #434B5C;\n",
              "      --hover-fill-color: #FFFFFF;\n",
              "      --disabled-bg-color: #3B4455;\n",
              "      --disabled-fill-color: #666;\n",
              "  }\n",
              "\n",
              "  .colab-df-quickchart {\n",
              "    background-color: var(--bg-color);\n",
              "    border: none;\n",
              "    border-radius: 50%;\n",
              "    cursor: pointer;\n",
              "    display: none;\n",
              "    fill: var(--fill-color);\n",
              "    height: 32px;\n",
              "    padding: 0;\n",
              "    width: 32px;\n",
              "  }\n",
              "\n",
              "  .colab-df-quickchart:hover {\n",
              "    background-color: var(--hover-bg-color);\n",
              "    box-shadow: 0 1px 2px rgba(60, 64, 67, 0.3), 0 1px 3px 1px rgba(60, 64, 67, 0.15);\n",
              "    fill: var(--button-hover-fill-color);\n",
              "  }\n",
              "\n",
              "  .colab-df-quickchart-complete:disabled,\n",
              "  .colab-df-quickchart-complete:disabled:hover {\n",
              "    background-color: var(--disabled-bg-color);\n",
              "    fill: var(--disabled-fill-color);\n",
              "    box-shadow: none;\n",
              "  }\n",
              "\n",
              "  .colab-df-spinner {\n",
              "    border: 2px solid var(--fill-color);\n",
              "    border-color: transparent;\n",
              "    border-bottom-color: var(--fill-color);\n",
              "    animation:\n",
              "      spin 1s steps(1) infinite;\n",
              "  }\n",
              "\n",
              "  @keyframes spin {\n",
              "    0% {\n",
              "      border-color: transparent;\n",
              "      border-bottom-color: var(--fill-color);\n",
              "      border-left-color: var(--fill-color);\n",
              "    }\n",
              "    20% {\n",
              "      border-color: transparent;\n",
              "      border-left-color: var(--fill-color);\n",
              "      border-top-color: var(--fill-color);\n",
              "    }\n",
              "    30% {\n",
              "      border-color: transparent;\n",
              "      border-left-color: var(--fill-color);\n",
              "      border-top-color: var(--fill-color);\n",
              "      border-right-color: var(--fill-color);\n",
              "    }\n",
              "    40% {\n",
              "      border-color: transparent;\n",
              "      border-right-color: var(--fill-color);\n",
              "      border-top-color: var(--fill-color);\n",
              "    }\n",
              "    60% {\n",
              "      border-color: transparent;\n",
              "      border-right-color: var(--fill-color);\n",
              "    }\n",
              "    80% {\n",
              "      border-color: transparent;\n",
              "      border-right-color: var(--fill-color);\n",
              "      border-bottom-color: var(--fill-color);\n",
              "    }\n",
              "    90% {\n",
              "      border-color: transparent;\n",
              "      border-bottom-color: var(--fill-color);\n",
              "    }\n",
              "  }\n",
              "</style>\n",
              "\n",
              "  <script>\n",
              "    async function quickchart(key) {\n",
              "      const quickchartButtonEl =\n",
              "        document.querySelector('#' + key + ' button');\n",
              "      quickchartButtonEl.disabled = true;  // To prevent multiple clicks.\n",
              "      quickchartButtonEl.classList.add('colab-df-spinner');\n",
              "      try {\n",
              "        const charts = await google.colab.kernel.invokeFunction(\n",
              "            'suggestCharts', [key], {});\n",
              "      } catch (error) {\n",
              "        console.error('Error during call to suggestCharts:', error);\n",
              "      }\n",
              "      quickchartButtonEl.classList.remove('colab-df-spinner');\n",
              "      quickchartButtonEl.classList.add('colab-df-quickchart-complete');\n",
              "    }\n",
              "    (() => {\n",
              "      let quickchartButtonEl =\n",
              "        document.querySelector('#df-1528d68e-7dcc-42e4-92f9-e1086ac86597 button');\n",
              "      quickchartButtonEl.style.display =\n",
              "        google.colab.kernel.accessAllowed ? 'block' : 'none';\n",
              "    })();\n",
              "  </script>\n",
              "</div>\n",
              "\n",
              "    </div>\n",
              "  </div>\n"
            ],
            "application/vnd.google.colaboratory.intrinsic+json": {
              "type": "dataframe",
              "variable_name": "df_net"
            }
          },
          "metadata": {},
          "execution_count": 6
        }
      ]
    },
    {
      "cell_type": "code",
      "source": [
        "# crearemos una clasificacion para score que si menor o igual a 3 es negativo y si es mayor a 3 positivo\n",
        "df_net['clasificacion'] = df_net['score'].apply(lambda x: 'positivo' if x > 3 else 'negativo')"
      ],
      "metadata": {
        "id": "8RW5H3q8qgpy"
      },
      "execution_count": 7,
      "outputs": []
    },
    {
      "cell_type": "code",
      "source": [
        "df_net.info()"
      ],
      "metadata": {
        "colab": {
          "base_uri": "https://localhost:8080/"
        },
        "id": "vL6LY3fMrB-k",
        "outputId": "a3d7956a-2914-4f08-c184-0dc478c831c5"
      },
      "execution_count": 8,
      "outputs": [
        {
          "output_type": "stream",
          "name": "stdout",
          "text": [
            "<class 'pandas.core.frame.DataFrame'>\n",
            "RangeIndex: 112568 entries, 0 to 112567\n",
            "Data columns (total 3 columns):\n",
            " #   Column         Non-Null Count   Dtype \n",
            "---  ------         --------------   ----- \n",
            " 0   content        112566 non-null  object\n",
            " 1   score          112568 non-null  int64 \n",
            " 2   clasificacion  112568 non-null  object\n",
            "dtypes: int64(1), object(2)\n",
            "memory usage: 2.6+ MB\n"
          ]
        }
      ]
    },
    {
      "cell_type": "markdown",
      "source": [
        "## Visualización de los datos"
      ],
      "metadata": {
        "id": "r0CumQpmUEDu"
      }
    },
    {
      "cell_type": "code",
      "source": [
        "# distribución de las clasificaciones\n",
        "\n",
        "df_net['clasificacion'].value_counts().plot(kind='bar', color='skyblue')\n",
        "plt.title('Distribución de las Clasificaciones')\n",
        "plt.xlabel('Clasificación')\n",
        "plt.ylabel('Frecuencia')\n",
        "plt.show()\n"
      ],
      "metadata": {
        "colab": {
          "base_uri": "https://localhost:8080/",
          "height": 518
        },
        "id": "mk8wFBNrrMsk",
        "outputId": "4f020323-42eb-48c6-a057-4a223bab66b9"
      },
      "execution_count": 9,
      "outputs": [
        {
          "output_type": "display_data",
          "data": {
            "text/plain": [
              "<Figure size 640x480 with 1 Axes>"
            ],
            "image/png": "[encoded data removed]"
          },
          "metadata": {}
        }
      ]
    },
    {
      "cell_type": "code",
      "source": [
        "#distribución de número de palabras y la frecuencia de las reseñas\n",
        "\n",
        "df_net['review_length'] = df_net['content'].apply(lambda x: len(str(x).split()))\n",
        "df_net['review_length'].plot(kind='hist', bins=50, color='skyblue')\n",
        "plt.title('Distribución de la Longitud de las Reseñas')\n",
        "plt.xlabel('Número de Palabras')\n",
        "plt.ylabel('Frecuencia')\n",
        "plt.show()"
      ],
      "metadata": {
        "colab": {
          "base_uri": "https://localhost:8080/",
          "height": 471
        },
        "id": "9QSRjMpjr1jD",
        "outputId": "a7066827-9315-4c6a-8837-93c0e3294d05"
      },
      "execution_count": 10,
      "outputs": [
        {
          "output_type": "display_data",
          "data": {
            "text/plain": [
              "<Figure size 640x480 with 1 Axes>"
            ],
            "image/png": "[encoded data removed]"
          },
          "metadata": {}
        }
      ]
    },
    {
      "cell_type": "markdown",
      "source": [
        "## Preprocesamiento de datos"
      ],
      "metadata": {
        "id": "lN1orPCtU7BE"
      }
    },
    {
      "cell_type": "code",
      "source": [
        "import re\n",
        "import nltk\n",
        "from nltk.corpus import stopwords\n",
        "from nltk.stem import WordNetLemmatizer\n",
        "nltk.download('stopwords')\n",
        "nltk.download('wordnet')"
      ],
      "metadata": {
        "colab": {
          "base_uri": "https://localhost:8080/"
        },
        "id": "rzUkXdSRtHnA",
        "outputId": "33d01875-228f-4549-b4c1-8cc147136dd5"
      },
      "execution_count": 11,
      "outputs": [
        {
          "output_type": "stream",
          "name": "stderr",
          "text": [
            "[nltk_data] Downloading package stopwords to /root/nltk_data...\n",
            "[nltk_data]   Unzipping corpora/stopwords.zip.\n",
            "[nltk_data] Downloading package wordnet to /root/nltk_data...\n"
          ]
        },
        {
          "output_type": "execute_result",
          "data": {
            "text/plain": [
              "True"
            ]
          },
          "metadata": {},
          "execution_count": 11
        }
      ]
    },
    {
      "cell_type": "code",
      "source": [
        "# preprocesamiento del texto, eliminamos, limpiamos, tokenizamos, lematizamos\n",
        "def preprocess_text(text):\n",
        "    # Manejamos valores que no son cadenas de texto y regresamos cadenas vacias\n",
        "    if not isinstance(text, (str, bytes)):\n",
        "        return \"\"\n",
        "\n",
        "    text = re.sub(r'\\W', ' ', text)\n",
        "    text = text.lower()\n",
        "    tokens = text.split()\n",
        "    stop_words = set(stopwords.words('english'))\n",
        "    tokens = [word for word in tokens if word not in stop_words]\n",
        "\n",
        "    lemmatizer = WordNetLemmatizer()\n",
        "    tokens = [lemmatizer.lemmatize(word) for word in tokens]\n",
        "    return ' '.join(tokens)\n",
        "\n",
        "# aplicamos\n",
        "df_net['cleaned_content'] = df_net['content'].apply(preprocess_text)"
      ],
      "metadata": {
        "id": "fQoeSXjQu0w0"
      },
      "execution_count": 12,
      "outputs": []
    },
    {
      "cell_type": "code",
      "source": [
        "print(df_net[['content', 'cleaned_content', 'clasificacion']].head())"
      ],
      "metadata": {
        "colab": {
          "base_uri": "https://localhost:8080/"
        },
        "id": "GQUEV9A8vBt3",
        "outputId": "9b56bf47-29a7-4175-976b-0fc319373d24"
      },
      "execution_count": 13,
      "outputs": [
        {
          "output_type": "stream",
          "name": "stdout",
          "text": [
            "                                             content  \\\n",
            "0  New plan doesn't support chromecast, doesn't e...   \n",
            "1  I enjoy the content that Netflix brings, but w...   \n",
            "2  when I try to play something it won't play and...   \n",
            "3                             Bodo punya netflix....   \n",
            "4                                       Just superb👌   \n",
            "\n",
            "                                     cleaned_content clasificacion  \n",
            "0  new plan support chromecast even notify user f...      negativo  \n",
            "1  enjoy content netflix brings rate increased w ...      positivo  \n",
            "2  try play something play say loading hour first...      negativo  \n",
            "3                                 bodo punya netflix      negativo  \n",
            "4                                             superb      positivo  \n"
          ]
        }
      ]
    },
    {
      "cell_type": "markdown",
      "source": [
        "## Modelos, vectores y resultados."
      ],
      "metadata": {
        "id": "iT7sk05gjNwW"
      }
    },
    {
      "cell_type": "markdown",
      "source": [
        "### Entrenamiento y prueba"
      ],
      "metadata": {
        "id": "alhc8u5JaHnh"
      }
    },
    {
      "cell_type": "code",
      "source": [
        "from sklearn.model_selection import train_test_split\n",
        "from sklearn.feature_extraction.text import TfidfVectorizer, CountVectorizer\n",
        "from sklearn.linear_model import LogisticRegression\n",
        "from sklearn.ensemble import RandomForestClassifier\n",
        "from sklearn.metrics import classification_report, accuracy_score, confusion_matrix\n",
        "import seaborn as sns\n",
        "import warnings\n",
        "warnings.filterwarnings('ignore')"
      ],
      "metadata": {
        "id": "HL7P15ULxjE4"
      },
      "execution_count": 15,
      "outputs": []
    },
    {
      "cell_type": "code",
      "source": [
        "# Dividimos los datos en conjuntos de entrenamiento y prueba 80 y 20\n",
        "X = df_net['cleaned_content']\n",
        "y = df_net['clasificacion']\n",
        "X_train, X_test, y_train, y_test = train_test_split(X, y, test_size=0.2, random_state=42)"
      ],
      "metadata": {
        "id": "oV7uy-u_xbf4"
      },
      "execution_count": 16,
      "outputs": []
    },
    {
      "cell_type": "code",
      "source": [
        "# vectorización\n",
        "vectorizers = {\n",
        "    \"Count n-grams\": CountVectorizer(ngram_range=(2, 3)),\n",
        "    \"TF-IDF\": TfidfVectorizer(),\n",
        "    \"TF-IDF n-grams\": TfidfVectorizer(ngram_range=(2, 3))\n",
        "}\n"
      ],
      "metadata": {
        "id": "agphiq1exsaF"
      },
      "execution_count": 17,
      "outputs": []
    },
    {
      "cell_type": "code",
      "source": [
        "models = {\n",
        "    \"Logistic Regression\": LogisticRegression(),\n",
        "    \"Random Forest\": RandomForestClassifier(n_estimators=100, max_depth=10, random_state=42)\n",
        "}"
      ],
      "metadata": {
        "id": "fvkvBOTr5nB1"
      },
      "execution_count": 18,
      "outputs": []
    },
    {
      "cell_type": "code",
      "source": [
        "# Entrenamiento y evaluación\n",
        "results = []\n",
        "\n",
        "for vec_name, vectorizer in vectorizers.items():\n",
        "    X_train_vec = vectorizer.fit_transform(X_train)\n",
        "    X_test_vec = vectorizer.transform(X_test)\n",
        "\n",
        "    for model_name, model in models.items():\n",
        "        model.fit(X_train_vec, y_train)\n",
        "        y_pred = model.predict(X_test_vec)\n",
        "\n",
        "        accuracy = accuracy_score(y_test, y_pred)\n",
        "        report = classification_report(y_test, y_pred, output_dict=True)\n",
        "        cm = confusion_matrix(y_test, y_pred)\n",
        "\n",
        "        results.append({\n",
        "            \"Model\": model_name,\n",
        "            \"Vectorizer\": vec_name,\n",
        "            \"Accuracy\": accuracy,\n",
        "            \"Report\": report,\n",
        "            \"Confusion Matrix\": cm\n",
        "        })"
      ],
      "metadata": {
        "collapsed": true,
        "id": "KN_J_eocyYtI"
      },
      "execution_count": 19,
      "outputs": []
    },
    {
      "cell_type": "code",
      "source": [
        "\n",
        "for result in results:\n",
        "    print(f\"Model: {result['Model']} with {result['Vectorizer']}\")\n",
        "    print(\"Accuracy:\", result[\"Accuracy\"])\n",
        "    df_report = pd.DataFrame(result[\"Report\"]).transpose()\n",
        "    print(df_report)\n",
        "    print(\"\\n\" + \"=\"*80 + \"\\n\")"
      ],
      "metadata": {
        "colab": {
          "base_uri": "https://localhost:8080/"
        },
        "id": "CD9G3_aGzKXB",
        "outputId": "0f2ebf7f-c48e-41fc-c751-3fe7290f59f3"
      },
      "execution_count": 20,
      "outputs": [
        {
          "output_type": "stream",
          "name": "stdout",
          "text": [
            "Model: Logistic Regression with Count n-grams\n",
            "Accuracy: 0.8230878564448787\n",
            "              precision    recall  f1-score       support\n",
            "negativo       0.833900  0.877972  0.855369  13415.000000\n",
            "positivo       0.804887  0.742169  0.772257   9099.000000\n",
            "accuracy       0.823088  0.823088  0.823088      0.823088\n",
            "macro avg      0.819393  0.810071  0.813813  22514.000000\n",
            "weighted avg   0.822174  0.823088  0.821779  22514.000000\n",
            "\n",
            "================================================================================\n",
            "\n",
            "Model: Random Forest with Count n-grams\n",
            "Accuracy: 0.5958514701963223\n",
            "              precision    recall  f1-score       support\n",
            "negativo       0.595851  1.000000  0.746751  13415.000000\n",
            "positivo       0.000000  0.000000  0.000000   9099.000000\n",
            "accuracy       0.595851  0.595851  0.595851      0.595851\n",
            "macro avg      0.297926  0.500000  0.373375  22514.000000\n",
            "weighted avg   0.355039  0.595851  0.444952  22514.000000\n",
            "\n",
            "================================================================================\n",
            "\n",
            "Model: Logistic Regression with TF-IDF\n",
            "Accuracy: 0.8643510704450564\n",
            "              precision    recall  f1-score       support\n",
            "negativo       0.866139  0.913530  0.889203  13415.000000\n",
            "positivo       0.861327  0.791845  0.825126   9099.000000\n",
            "accuracy       0.864351  0.864351  0.864351      0.864351\n",
            "macro avg      0.863733  0.852687  0.857165  22514.000000\n",
            "weighted avg   0.864194  0.864351  0.863307  22514.000000\n",
            "\n",
            "================================================================================\n",
            "\n",
            "Model: Random Forest with TF-IDF\n",
            "Accuracy: 0.609709514080128\n",
            "              precision    recall  f1-score      support\n",
            "negativo       0.604356  0.998956  0.753098  13415.00000\n",
            "positivo       0.958824  0.035828  0.069075   9099.00000\n",
            "accuracy       0.609710  0.609710  0.609710      0.60971\n",
            "macro avg      0.781590  0.517392  0.411086  22514.00000\n",
            "weighted avg   0.747614  0.609710  0.476651  22514.00000\n",
            "\n",
            "================================================================================\n",
            "\n",
            "Model: Logistic Regression with TF-IDF n-grams\n",
            "Accuracy: 0.8142933285955406\n",
            "              precision    recall  f1-score       support\n",
            "negativo       0.808458  0.902050  0.852694  13415.000000\n",
            "positivo       0.825868  0.684910  0.748813   9099.000000\n",
            "accuracy       0.814293  0.814293  0.814293      0.814293\n",
            "macro avg      0.817163  0.793480  0.800753  22514.000000\n",
            "weighted avg   0.815494  0.814293  0.810711  22514.000000\n",
            "\n",
            "================================================================================\n",
            "\n",
            "Model: Random Forest with TF-IDF n-grams\n",
            "Accuracy: 0.5958514701963223\n",
            "              precision    recall  f1-score       support\n",
            "negativo       0.595851  1.000000  0.746751  13415.000000\n",
            "positivo       0.000000  0.000000  0.000000   9099.000000\n",
            "accuracy       0.595851  0.595851  0.595851      0.595851\n",
            "macro avg      0.297926  0.500000  0.373375  22514.000000\n",
            "weighted avg   0.355039  0.595851  0.444952  22514.000000\n",
            "\n",
            "================================================================================\n",
            "\n"
          ]
        }
      ]
    },
    {
      "cell_type": "code",
      "source": [
        "# Obtener las predicciones del mejor modelo\n",
        "vectorizer = TfidfVectorizer()\n",
        "X_train_vec = vectorizer.fit_transform(X_train)\n",
        "X_test_vec = vectorizer.transform(X_test)\n",
        "\n",
        "best_model = LogisticRegression(C=1.0, solver='liblinear')\n",
        "best_model.fit(X_train_vec, y_train)\n",
        "y_pred = best_model.predict(X_test_vec)\n",
        "\n",
        "# Calcular la matriz de confusión\n",
        "cm = confusion_matrix(y_test, y_pred)\n"
      ],
      "metadata": {
        "id": "SIjZgpQK1gMo"
      },
      "execution_count": 21,
      "outputs": []
    },
    {
      "cell_type": "code",
      "source": [
        "\n",
        "# Mostrar matriz de confusión como mapa de calor\n",
        "plt.figure(figsize=(8, 6))\n",
        "sns.heatmap(cm, annot=True, fmt=\"d\", cmap=\"Blues\", xticklabels=['Negativo', 'Positivo'], yticklabels=['Negativo', 'Positivo'])\n",
        "plt.title('Matriz de Confusión para Regresión Logística con TF-IDF')\n",
        "plt.xlabel('Falso')\n",
        "plt.ylabel('Verdadero')\n",
        "plt.show()\n"
      ],
      "metadata": {
        "colab": {
          "base_uri": "https://localhost:8080/",
          "height": 564
        },
        "id": "Dq-hBxBW1lqP",
        "outputId": "00ca0e5b-c186-4793-cbe3-0179b953a70c"
      },
      "execution_count": 23,
      "outputs": [
        {
          "output_type": "display_data",
          "data": {
            "text/plain": [
              "<Figure size 800x600 with 2 Axes>"
            ],
            "image/png": "[encoded data removed]"
          },
          "metadata": {}
        }
      ]
    },
    {
      "cell_type": "markdown",
      "source": [
        "## Modelos hiperparametros ajustados"
      ],
      "metadata": {
        "id": "Ko5LHvOp9qfB"
      }
    },
    {
      "cell_type": "code",
      "source": [
        "# Modelos con hiperparámetros ajustados\n",
        "lr_params = {\n",
        "    'C': 0.5,\n",
        "    'solver': 'liblinear'\n",
        "}\n",
        "\n",
        "rf_params = {\n",
        "    'n_estimators': 200,\n",
        "    'max_depth': 20,\n",
        "    'min_samples_split': 5,\n",
        "    'min_samples_leaf': 2,\n",
        "    'random_state': 42\n",
        "}\n",
        "\n",
        "models_adjusted = {\n",
        "    \"Logistic Regression (Adjusted)\": LogisticRegression(**lr_params),\n",
        "    \"Random Forest (Adjusted)\": RandomForestClassifier(**rf_params)\n",
        "}\n"
      ],
      "metadata": {
        "id": "yy3T3DDZ9nO1"
      },
      "execution_count": 22,
      "outputs": []
    },
    {
      "cell_type": "code",
      "source": [
        "# Combinar ambos diccionarios de modelos\n",
        "models.update(models_adjusted)\n"
      ],
      "metadata": {
        "id": "j0JuhVkq97sM"
      },
      "execution_count": 23,
      "outputs": []
    },
    {
      "cell_type": "code",
      "source": [
        "# Entrenamiento y evaluación\n",
        "results = []\n",
        "\n",
        "for vec_name, vectorizer in vectorizers.items():\n",
        "    X_train_vec = vectorizer.fit_transform(X_train)\n",
        "    X_test_vec = vectorizer.transform(X_test)\n",
        "\n",
        "    for model_name, model in models.items():\n",
        "        model.fit(X_train_vec, y_train)\n",
        "        y_pred = model.predict(X_test_vec)\n",
        "\n",
        "        accuracy = accuracy_score(y_test, y_pred)\n",
        "        report = classification_report(y_test, y_pred, output_dict=True)\n",
        "        cm = confusion_matrix(y_test, y_pred)\n",
        "\n",
        "        results.append({\n",
        "            \"Model\": model_name,\n",
        "            \"Vectorizer\": vec_name,\n",
        "            \"Accuracy\": accuracy,\n",
        "            \"Report\": report,\n",
        "            \"Confusion Matrix\": cm\n",
        "        })"
      ],
      "metadata": {
        "colab": {
          "base_uri": "https://localhost:8080/"
        },
        "id": "yACSDk6492R3",
        "outputId": "6670899e-0eba-4334-ff11-e4148f2ed615"
      },
      "execution_count": 24,
      "outputs": [
        {
          "output_type": "stream",
          "name": "stderr",
          "text": [
            "/usr/local/lib/python3.10/dist-packages/sklearn/linear_model/_logistic.py:458: ConvergenceWarning: lbfgs failed to converge (status=1):\n",
            "STOP: TOTAL NO. of ITERATIONS REACHED LIMIT.\n",
            "\n",
            "Increase the number of iterations (max_iter) or scale the data as shown in:\n",
            "    https://scikit-learn.org/stable/modules/preprocessing.html\n",
            "Please also refer to the documentation for alternative solver options:\n",
            "    https://scikit-learn.org/stable/modules/linear_model.html#logistic-regression\n",
            "  n_iter_i = _check_optimize_result(\n",
            "/usr/local/lib/python3.10/dist-packages/sklearn/metrics/_classification.py:1344: UndefinedMetricWarning: Precision and F-score are ill-defined and being set to 0.0 in labels with no predicted samples. Use `zero_division` parameter to control this behavior.\n",
            "  _warn_prf(average, modifier, msg_start, len(result))\n",
            "/usr/local/lib/python3.10/dist-packages/sklearn/metrics/_classification.py:1344: UndefinedMetricWarning: Precision and F-score are ill-defined and being set to 0.0 in labels with no predicted samples. Use `zero_division` parameter to control this behavior.\n",
            "  _warn_prf(average, modifier, msg_start, len(result))\n",
            "/usr/local/lib/python3.10/dist-packages/sklearn/metrics/_classification.py:1344: UndefinedMetricWarning: Precision and F-score are ill-defined and being set to 0.0 in labels with no predicted samples. Use `zero_division` parameter to control this behavior.\n",
            "  _warn_prf(average, modifier, msg_start, len(result))\n",
            "/usr/local/lib/python3.10/dist-packages/sklearn/metrics/_classification.py:1344: UndefinedMetricWarning: Precision and F-score are ill-defined and being set to 0.0 in labels with no predicted samples. Use `zero_division` parameter to control this behavior.\n",
            "  _warn_prf(average, modifier, msg_start, len(result))\n",
            "/usr/local/lib/python3.10/dist-packages/sklearn/metrics/_classification.py:1344: UndefinedMetricWarning: Precision and F-score are ill-defined and being set to 0.0 in labels with no predicted samples. Use `zero_division` parameter to control this behavior.\n",
            "  _warn_prf(average, modifier, msg_start, len(result))\n",
            "/usr/local/lib/python3.10/dist-packages/sklearn/metrics/_classification.py:1344: UndefinedMetricWarning: Precision and F-score are ill-defined and being set to 0.0 in labels with no predicted samples. Use `zero_division` parameter to control this behavior.\n",
            "  _warn_prf(average, modifier, msg_start, len(result))\n",
            "/usr/local/lib/python3.10/dist-packages/sklearn/metrics/_classification.py:1344: UndefinedMetricWarning: Precision and F-score are ill-defined and being set to 0.0 in labels with no predicted samples. Use `zero_division` parameter to control this behavior.\n",
            "  _warn_prf(average, modifier, msg_start, len(result))\n",
            "/usr/local/lib/python3.10/dist-packages/sklearn/metrics/_classification.py:1344: UndefinedMetricWarning: Precision and F-score are ill-defined and being set to 0.0 in labels with no predicted samples. Use `zero_division` parameter to control this behavior.\n",
            "  _warn_prf(average, modifier, msg_start, len(result))\n",
            "/usr/local/lib/python3.10/dist-packages/sklearn/metrics/_classification.py:1344: UndefinedMetricWarning: Precision and F-score are ill-defined and being set to 0.0 in labels with no predicted samples. Use `zero_division` parameter to control this behavior.\n",
            "  _warn_prf(average, modifier, msg_start, len(result))\n"
          ]
        }
      ]
    },
    {
      "cell_type": "code",
      "source": [
        "# Mostrar resultados en tablas\n",
        "for result in results:\n",
        "    print(f\"Model: {result['Model']} with {result['Vectorizer']}\")\n",
        "    print(\"Accuracy:\", result[\"Accuracy\"])\n",
        "    df_report = pd.DataFrame(result[\"Report\"]).transpose()\n",
        "    print(df_report)\n",
        "    print(\"\\n\" + \"=\"*80 + \"\\n\")"
      ],
      "metadata": {
        "colab": {
          "base_uri": "https://localhost:8080/"
        },
        "id": "7Fyt6UlU-FnJ",
        "outputId": "79a8375a-6b95-43a2-e8f5-7c57a9a9395e"
      },
      "execution_count": 26,
      "outputs": [
        {
          "output_type": "stream",
          "name": "stdout",
          "text": [
            "Model: Logistic Regression with Count n-grams\n",
            "Accuracy: 0.8230878564448787\n",
            "              precision    recall  f1-score       support\n",
            "negativo       0.833900  0.877972  0.855369  13415.000000\n",
            "positivo       0.804887  0.742169  0.772257   9099.000000\n",
            "accuracy       0.823088  0.823088  0.823088      0.823088\n",
            "macro avg      0.819393  0.810071  0.813813  22514.000000\n",
            "weighted avg   0.822174  0.823088  0.821779  22514.000000\n",
            "\n",
            "================================================================================\n",
            "\n",
            "Model: Random Forest with Count n-grams\n",
            "Accuracy: 0.5958514701963223\n",
            "              precision    recall  f1-score       support\n",
            "negativo       0.595851  1.000000  0.746751  13415.000000\n",
            "positivo       0.000000  0.000000  0.000000   9099.000000\n",
            "accuracy       0.595851  0.595851  0.595851      0.595851\n",
            "macro avg      0.297926  0.500000  0.373375  22514.000000\n",
            "weighted avg   0.355039  0.595851  0.444952  22514.000000\n",
            "\n",
            "================================================================================\n",
            "\n",
            "Model: Logistic Regression (Adjusted) with Count n-grams\n",
            "Accuracy: 0.8235764413253975\n",
            "              precision    recall  f1-score       support\n",
            "negativo       0.827905  0.888632  0.857194  13415.000000\n",
            "positivo       0.815896  0.727662  0.769258   9099.000000\n",
            "accuracy       0.823576  0.823576  0.823576      0.823576\n",
            "macro avg      0.821901  0.808147  0.813226  22514.000000\n",
            "weighted avg   0.823052  0.823576  0.821655  22514.000000\n",
            "\n",
            "================================================================================\n",
            "\n",
            "Model: Random Forest (Adjusted) with Count n-grams\n",
            "Accuracy: 0.5958514701963223\n",
            "              precision    recall  f1-score       support\n",
            "negativo       0.595851  1.000000  0.746751  13415.000000\n",
            "positivo       0.000000  0.000000  0.000000   9099.000000\n",
            "accuracy       0.595851  0.595851  0.595851      0.595851\n",
            "macro avg      0.297926  0.500000  0.373375  22514.000000\n",
            "weighted avg   0.355039  0.595851  0.444952  22514.000000\n",
            "\n",
            "================================================================================\n",
            "\n",
            "Model: Logistic Regression with TF-IDF\n",
            "Accuracy: 0.8643510704450564\n",
            "              precision    recall  f1-score       support\n",
            "negativo       0.866139  0.913530  0.889203  13415.000000\n",
            "positivo       0.861327  0.791845  0.825126   9099.000000\n",
            "accuracy       0.864351  0.864351  0.864351      0.864351\n",
            "macro avg      0.863733  0.852687  0.857165  22514.000000\n",
            "weighted avg   0.864194  0.864351  0.863307  22514.000000\n",
            "\n",
            "================================================================================\n",
            "\n",
            "Model: Random Forest with TF-IDF\n",
            "Accuracy: 0.609709514080128\n",
            "              precision    recall  f1-score      support\n",
            "negativo       0.604356  0.998956  0.753098  13415.00000\n",
            "positivo       0.958824  0.035828  0.069075   9099.00000\n",
            "accuracy       0.609710  0.609710  0.609710      0.60971\n",
            "macro avg      0.781590  0.517392  0.411086  22514.00000\n",
            "weighted avg   0.747614  0.609710  0.476651  22514.00000\n",
            "\n",
            "================================================================================\n",
            "\n",
            "Model: Logistic Regression (Adjusted) with TF-IDF\n",
            "Accuracy: 0.8622190636937017\n",
            "              precision    recall  f1-score       support\n",
            "negativo       0.862241  0.914946  0.887812  13415.000000\n",
            "positivo       0.862181  0.784482  0.821498   9099.000000\n",
            "accuracy       0.862219  0.862219  0.862219      0.862219\n",
            "macro avg      0.862211  0.849714  0.854655  22514.000000\n",
            "weighted avg   0.862217  0.862219  0.861011  22514.000000\n",
            "\n",
            "================================================================================\n",
            "\n",
            "Model: Random Forest (Adjusted) with TF-IDF\n",
            "Accuracy: 0.7314115661366261\n",
            "              precision    recall  f1-score       support\n",
            "negativo       0.694242  0.981513  0.813255  13415.000000\n",
            "positivo       0.930101  0.362677  0.521863   9099.000000\n",
            "accuracy       0.731412  0.731412  0.731412      0.731412\n",
            "macro avg      0.812172  0.672095  0.667559  22514.000000\n",
            "weighted avg   0.789564  0.731412  0.695489  22514.000000\n",
            "\n",
            "================================================================================\n",
            "\n",
            "Model: Logistic Regression with TF-IDF n-grams\n",
            "Accuracy: 0.8142933285955406\n",
            "              precision    recall  f1-score       support\n",
            "negativo       0.808458  0.902050  0.852694  13415.000000\n",
            "positivo       0.825868  0.684910  0.748813   9099.000000\n",
            "accuracy       0.814293  0.814293  0.814293      0.814293\n",
            "macro avg      0.817163  0.793480  0.800753  22514.000000\n",
            "weighted avg   0.815494  0.814293  0.810711  22514.000000\n",
            "\n",
            "================================================================================\n",
            "\n",
            "Model: Random Forest with TF-IDF n-grams\n",
            "Accuracy: 0.5958514701963223\n",
            "              precision    recall  f1-score       support\n",
            "negativo       0.595851  1.000000  0.746751  13415.000000\n",
            "positivo       0.000000  0.000000  0.000000   9099.000000\n",
            "accuracy       0.595851  0.595851  0.595851      0.595851\n",
            "macro avg      0.297926  0.500000  0.373375  22514.000000\n",
            "weighted avg   0.355039  0.595851  0.444952  22514.000000\n",
            "\n",
            "================================================================================\n",
            "\n",
            "Model: Logistic Regression (Adjusted) with TF-IDF n-grams\n",
            "Accuracy: 0.8014568712800924\n",
            "              precision    recall  f1-score       support\n",
            "negativo       0.789951  0.908312  0.845007  13415.000000\n",
            "positivo       0.826492  0.643917  0.723870   9099.000000\n",
            "accuracy       0.801457  0.801457  0.801457      0.801457\n",
            "macro avg      0.808222  0.776114  0.784438  22514.000000\n",
            "weighted avg   0.804719  0.801457  0.796049  22514.000000\n",
            "\n",
            "================================================================================\n",
            "\n",
            "Model: Random Forest (Adjusted) with TF-IDF n-grams\n",
            "Accuracy: 0.5958958870036422\n",
            "              precision    recall  f1-score       support\n",
            "negativo       0.595878  1.000000  0.746771  13415.000000\n",
            "positivo       1.000000  0.000110  0.000220   9099.000000\n",
            "accuracy       0.595896  0.595896  0.595896      0.595896\n",
            "macro avg      0.797939  0.500055  0.373496  22514.000000\n",
            "weighted avg   0.759203  0.595896  0.445054  22514.000000\n",
            "\n",
            "================================================================================\n",
            "\n"
          ]
        }
      ]
    },
    {
      "cell_type": "code",
      "source": [
        "# Vectorización y entrenamiento del mejor modelo ajustado\n",
        "vectorizer = TfidfVectorizer()\n",
        "X_train_vec = vectorizer.fit_transform(X_train)\n",
        "X_test_vec = vectorizer.transform(X_test)\n",
        "\n",
        "best_model = LogisticRegression(C=0.5, solver='liblinear')\n",
        "best_model.fit(X_train_vec, y_train)\n",
        "y_pred = best_model.predict(X_test_vec)\n",
        "\n",
        "# Calcular la matriz de confusión\n",
        "cm = confusion_matrix(y_test, y_pred)"
      ],
      "metadata": {
        "id": "nrF-YqB6AQBJ"
      },
      "execution_count": 27,
      "outputs": []
    },
    {
      "cell_type": "code",
      "source": [
        "# Mostrar matriz de confusión como mapa de calor\n",
        "plt.figure(figsize=(8, 6))\n",
        "sns.heatmap(cm, annot=True, fmt=\"d\", cmap=\"Blues\", xticklabels=['Negativo', 'Positivo'], yticklabels=['Negativo', 'Positivo'])\n",
        "plt.title('Matriz de Confusión para Logistic Regression (Adjusted) con TF-IDF')\n",
        "plt.xlabel('Predicho')\n",
        "plt.ylabel('Actual')\n",
        "plt.show()"
      ],
      "metadata": {
        "colab": {
          "base_uri": "https://localhost:8080/",
          "height": 564
        },
        "id": "qxuEz05WAII_",
        "outputId": "7b68d4b0-ba31-49a4-f62c-1cfe430bbb18"
      },
      "execution_count": 28,
      "outputs": [
        {
          "output_type": "display_data",
          "data": {
            "text/plain": [
              "<Figure size 800x600 with 2 Axes>"
            ],
            "image/png": "[encoded data removed]"
          },
          "metadata": {}
        }
      ]
    }
  ]
}